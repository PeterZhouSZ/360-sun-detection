{
 "cells": [
  {
   "cell_type": "code",
   "execution_count": 1,
   "metadata": {},
   "outputs": [],
   "source": [
    "import math\n",
    "import csv\n",
    "def readGPS(fname):\n",
    "    GPS_data  = []\n",
    "    with open(fname, newline='') as csvfile:\n",
    "\n",
    "        rows = csv.DictReader(csvfile)\n",
    "\n",
    "        for row in rows:\n",
    "            GPS_data.append([float(row['lat']), float(row['lng'])])\n",
    "    return GPS_data\n",
    "\n",
    "def GPS2Dir(gps):\n",
    "    dir_data = []   \n",
    "    for i in range(len(gps) - 1):\n",
    "        y = math.sin(gps[i+1][1] - gps[i][1]) * math.cos(gps[i+1][0])\n",
    "        x = math.cos(gps[i][0]) * math.sin(gps[i+1][0]) - math.sin(gps[i][0]) * math.cos(gps[i+1][0]) * math.cos(gps[i+1][1] - gps[i][1])\n",
    "        brng = round(math.degrees(math.atan2(y, x)))\n",
    "        dir_data.append(brng)\n",
    "        if (i ==  (len(gps) - 2)):\n",
    "            dir_data.append(brng)\n",
    "    return dir_data\n",
    "\n",
    "def writeDir(g, d):\n",
    "    with open('data.csv', 'w' , newline='') as f:\n",
    "        fieldnames = ['---','lat','lng','dir']\n",
    "        writer = csv.DictWriter(f, fieldnames=fieldnames)\n",
    "        writer.writeheader()\n",
    "        \n",
    "        for i in range(len(g)):    \n",
    "            writer.writerow({'---' : i, \n",
    "                             'lat': g[i][0], \n",
    "                             'lng': g[i][1], \n",
    "                             'dir': d[i]})\n",
    "            \n",
    "            \n",
    "GPS = readGPS('demo3_GPS.csv')\n",
    "DIR = GPS2Dir(GPS)\n",
    "writeDir(GPS, DIR)"
   ]
  },
  {
   "cell_type": "code",
   "execution_count": null,
   "metadata": {},
   "outputs": [],
   "source": []
  }
 ],
 "metadata": {
  "kernelspec": {
   "display_name": "Python 3",
   "language": "python",
   "name": "python3"
  },
  "language_info": {
   "codemirror_mode": {
    "name": "ipython",
    "version": 3
   },
   "file_extension": ".py",
   "mimetype": "text/x-python",
   "name": "python",
   "nbconvert_exporter": "python",
   "pygments_lexer": "ipython3",
   "version": "3.6.4"
  }
 },
 "nbformat": 4,
 "nbformat_minor": 2
}
